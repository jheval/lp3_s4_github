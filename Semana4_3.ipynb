{
 "cells": [
  {
   "cell_type": "markdown",
   "id": "caca59a7",
   "metadata": {},
   "source": [
    "# Semana 4\n",
    "Valdivieso Sánchez Jheremy Victor\n"
   ]
  },
  {
   "cell_type": "markdown",
   "id": "d14194ad",
   "metadata": {},
   "source": [
    "Agenda\n",
    "\n",
    "1. Numeros\n",
    "2. Variables\n",
    "3. Manejo de cadenas\n",
    "4. Ingreso de datos por teclado\n",
    "5. Operadores"
   ]
  },
  {
   "cell_type": "markdown",
   "id": "a291d674",
   "metadata": {},
   "source": [
    "3. Manejo de cadenas"
   ]
  },
  {
   "cell_type": "code",
   "execution_count": 3,
   "id": "6f7cf04b",
   "metadata": {},
   "outputs": [],
   "source": [
    "cadena =\"Universidad Nacional Tecnologica de Lima Sur\""
   ]
  },
  {
   "cell_type": "code",
   "execution_count": 4,
   "id": "c5a2961b",
   "metadata": {},
   "outputs": [
    {
     "data": {
      "text/plain": [
       "'Universidad Nacional Tecnologica de Lima Sur'"
      ]
     },
     "execution_count": 4,
     "metadata": {},
     "output_type": "execute_result"
    }
   ],
   "source": [
    "cadena"
   ]
  },
  {
   "cell_type": "code",
   "execution_count": 5,
   "id": "7c5c6f7a",
   "metadata": {},
   "outputs": [],
   "source": [
    "# Universidad Nacional Tecnologica de Lima Sur\n",
    "# 01234.......\n",
    "# "
   ]
  },
  {
   "cell_type": "code",
   "execution_count": 7,
   "id": "ed2e9036",
   "metadata": {},
   "outputs": [
    {
     "data": {
      "text/plain": [
       "'r'"
      ]
     },
     "execution_count": 7,
     "metadata": {},
     "output_type": "execute_result"
    }
   ],
   "source": [
    "cadena[5]"
   ]
  },
  {
   "cell_type": "code",
   "execution_count": 8,
   "id": "3571b66e",
   "metadata": {},
   "outputs": [
    {
     "data": {
      "text/plain": [
       "' '"
      ]
     },
     "execution_count": 8,
     "metadata": {},
     "output_type": "execute_result"
    }
   ],
   "source": [
    "cadena[11]"
   ]
  },
  {
   "cell_type": "code",
   "execution_count": 9,
   "id": "b5f38e32",
   "metadata": {},
   "outputs": [
    {
     "data": {
      "text/plain": [
       "'d'"
      ]
     },
     "execution_count": 9,
     "metadata": {},
     "output_type": "execute_result"
    }
   ],
   "source": [
    "cadena[10]"
   ]
  },
  {
   "cell_type": "code",
   "execution_count": 10,
   "id": "28f99373",
   "metadata": {},
   "outputs": [
    {
     "data": {
      "text/plain": [
       "'r'"
      ]
     },
     "execution_count": 10,
     "metadata": {},
     "output_type": "execute_result"
    }
   ],
   "source": [
    "cadena[-1]"
   ]
  },
  {
   "cell_type": "code",
   "execution_count": 11,
   "id": "d50b66e1",
   "metadata": {},
   "outputs": [
    {
     "data": {
      "text/plain": [
       "'u'"
      ]
     },
     "execution_count": 11,
     "metadata": {},
     "output_type": "execute_result"
    }
   ],
   "source": [
    "cadena[-2]"
   ]
  },
  {
   "cell_type": "code",
   "execution_count": 12,
   "id": "5165f74f",
   "metadata": {},
   "outputs": [
    {
     "data": {
      "text/plain": [
       "'S'"
      ]
     },
     "execution_count": 12,
     "metadata": {},
     "output_type": "execute_result"
    }
   ],
   "source": [
    "cadena[-3]"
   ]
  },
  {
   "cell_type": "code",
   "execution_count": 13,
   "id": "fa3fa6f3",
   "metadata": {},
   "outputs": [
    {
     "data": {
      "text/plain": [
       "'Unive'"
      ]
     },
     "execution_count": 13,
     "metadata": {},
     "output_type": "execute_result"
    }
   ],
   "source": [
    "cadena[0:5]"
   ]
  },
  {
   "cell_type": "code",
   "execution_count": 14,
   "id": "56c236df",
   "metadata": {},
   "outputs": [
    {
     "data": {
      "text/plain": [
       "'nive'"
      ]
     },
     "execution_count": 14,
     "metadata": {},
     "output_type": "execute_result"
    }
   ],
   "source": [
    "cadena[1:5]"
   ]
  },
  {
   "cell_type": "code",
   "execution_count": 15,
   "id": "a3459831",
   "metadata": {},
   "outputs": [
    {
     "data": {
      "text/plain": [
       "''"
      ]
     },
     "execution_count": 15,
     "metadata": {},
     "output_type": "execute_result"
    }
   ],
   "source": [
    "cadena[-3:-4]"
   ]
  },
  {
   "cell_type": "code",
   "execution_count": 16,
   "id": "84eda600",
   "metadata": {},
   "outputs": [
    {
     "data": {
      "text/plain": [
       "' Su'"
      ]
     },
     "execution_count": 16,
     "metadata": {},
     "output_type": "execute_result"
    }
   ],
   "source": [
    "cadena[-4:-1]"
   ]
  },
  {
   "cell_type": "code",
   "execution_count": 17,
   "id": "374012fe",
   "metadata": {},
   "outputs": [
    {
     "data": {
      "text/plain": [
       "''"
      ]
     },
     "execution_count": 17,
     "metadata": {},
     "output_type": "execute_result"
    }
   ],
   "source": [
    "cadena[-4:0]"
   ]
  },
  {
   "cell_type": "code",
   "execution_count": 18,
   "id": "55481cda",
   "metadata": {},
   "outputs": [
    {
     "data": {
      "text/plain": [
       "44"
      ]
     },
     "execution_count": 18,
     "metadata": {},
     "output_type": "execute_result"
    }
   ],
   "source": [
    "len(cadena)"
   ]
  },
  {
   "cell_type": "code",
   "execution_count": 19,
   "id": "41993d13",
   "metadata": {},
   "outputs": [
    {
     "data": {
      "text/plain": [
       "''"
      ]
     },
     "execution_count": 19,
     "metadata": {},
     "output_type": "execute_result"
    }
   ],
   "source": [
    "cadena[-5:-0]"
   ]
  },
  {
   "cell_type": "code",
   "execution_count": 20,
   "id": "e521f008",
   "metadata": {},
   "outputs": [
    {
     "data": {
      "text/plain": [
       "'a Su'"
      ]
     },
     "execution_count": 20,
     "metadata": {},
     "output_type": "execute_result"
    }
   ],
   "source": [
    "cadena[-5:-1]"
   ]
  },
  {
   "cell_type": "code",
   "execution_count": 21,
   "id": "5058941b",
   "metadata": {},
   "outputs": [
    {
     "ename": "TypeError",
     "evalue": "slice indices must be integers or None or have an __index__ method",
     "output_type": "error",
     "traceback": [
      "\u001b[1;31m---------------------------------------------------------------------------\u001b[0m",
      "\u001b[1;31mTypeError\u001b[0m                                 Traceback (most recent call last)",
      "Input \u001b[1;32mIn [21]\u001b[0m, in \u001b[0;36m<cell line: 1>\u001b[1;34m()\u001b[0m\n\u001b[1;32m----> 1\u001b[0m \u001b[43mcadena\u001b[49m\u001b[43m[\u001b[49m\u001b[38;5;241;43m-\u001b[39;49m\u001b[38;5;241;43m5\u001b[39;49m\u001b[43m:\u001b[49m\u001b[38;5;241;43m-\u001b[39;49m\u001b[38;5;241;43m0.5\u001b[39;49m\u001b[43m]\u001b[49m\n",
      "\u001b[1;31mTypeError\u001b[0m: slice indices must be integers or None or have an __index__ method"
     ]
    }
   ],
   "source": [
    "cadena[-5:-0.5]"
   ]
  },
  {
   "cell_type": "code",
   "execution_count": 22,
   "id": "79abdee5",
   "metadata": {},
   "outputs": [
    {
     "data": {
      "text/plain": [
       "''"
      ]
     },
     "execution_count": 22,
     "metadata": {},
     "output_type": "execute_result"
    }
   ],
   "source": [
    "cadena[-5:1]"
   ]
  },
  {
   "cell_type": "code",
   "execution_count": 23,
   "id": "15213cfb",
   "metadata": {},
   "outputs": [
    {
     "data": {
      "text/plain": [
       "'UNIVERSIDAD NACIONAL TECNOLOGICA DE LIMA SUR'"
      ]
     },
     "execution_count": 23,
     "metadata": {},
     "output_type": "execute_result"
    }
   ],
   "source": [
    "cadena.upper()"
   ]
  },
  {
   "cell_type": "code",
   "execution_count": 24,
   "id": "25b5a8cc",
   "metadata": {},
   "outputs": [
    {
     "data": {
      "text/plain": [
       "'universidad nacional tecnologica de lima sur'"
      ]
     },
     "execution_count": 24,
     "metadata": {},
     "output_type": "execute_result"
    }
   ],
   "source": [
    "cadena.lower()"
   ]
  },
  {
   "cell_type": "code",
   "execution_count": 25,
   "id": "c0ce0eeb",
   "metadata": {},
   "outputs": [
    {
     "data": {
      "text/plain": [
       "'Universidad Nacional Tecnologica de Lima Sur'"
      ]
     },
     "execution_count": 25,
     "metadata": {},
     "output_type": "execute_result"
    }
   ],
   "source": [
    "cadena"
   ]
  },
  {
   "cell_type": "code",
   "execution_count": 26,
   "id": "4b9cde3b",
   "metadata": {},
   "outputs": [
    {
     "data": {
      "text/plain": [
       "''"
      ]
     },
     "execution_count": 26,
     "metadata": {},
     "output_type": "execute_result"
    }
   ],
   "source": [
    "cadena[-5:1]"
   ]
  },
  {
   "cell_type": "code",
   "execution_count": 27,
   "id": "33f16d81",
   "metadata": {},
   "outputs": [
    {
     "data": {
      "text/plain": [
       "'a Su'"
      ]
     },
     "execution_count": 27,
     "metadata": {},
     "output_type": "execute_result"
    }
   ],
   "source": [
    "cadena[-5:-1]"
   ]
  },
  {
   "cell_type": "code",
   "execution_count": 28,
   "id": "2b0e6b4e",
   "metadata": {},
   "outputs": [
    {
     "data": {
      "text/plain": [
       "''"
      ]
     },
     "execution_count": 28,
     "metadata": {},
     "output_type": "execute_result"
    }
   ],
   "source": [
    "cadena[-5:0]"
   ]
  },
  {
   "cell_type": "code",
   "execution_count": 29,
   "id": "08979b4a",
   "metadata": {},
   "outputs": [
    {
     "data": {
      "text/plain": [
       "''"
      ]
     },
     "execution_count": 29,
     "metadata": {},
     "output_type": "execute_result"
    }
   ],
   "source": [
    "cadena[-1:-5]"
   ]
  },
  {
   "cell_type": "code",
   "execution_count": 30,
   "id": "aab00c24",
   "metadata": {},
   "outputs": [
    {
     "ename": "TypeError",
     "evalue": "slice indices must be integers or None or have an __index__ method",
     "output_type": "error",
     "traceback": [
      "\u001b[1;31m---------------------------------------------------------------------------\u001b[0m",
      "\u001b[1;31mTypeError\u001b[0m                                 Traceback (most recent call last)",
      "Input \u001b[1;32mIn [30]\u001b[0m, in \u001b[0;36m<cell line: 1>\u001b[1;34m()\u001b[0m\n\u001b[1;32m----> 1\u001b[0m \u001b[43mcadena\u001b[49m\u001b[43m[\u001b[49m\u001b[38;5;241;43m-\u001b[39;49m\u001b[38;5;241;43m5\u001b[39;49m\u001b[43m:\u001b[49m\u001b[38;5;241;43m-\u001b[39;49m\u001b[38;5;241;43m0.5\u001b[39;49m\u001b[43m]\u001b[49m\n",
      "\u001b[1;31mTypeError\u001b[0m: slice indices must be integers or None or have an __index__ method"
     ]
    }
   ],
   "source": [
    "cadena[-5:-0.5]"
   ]
  },
  {
   "cell_type": "code",
   "execution_count": 31,
   "id": "7bc5d8ce",
   "metadata": {},
   "outputs": [
    {
     "data": {
      "text/plain": [
       "'e Lima Su'"
      ]
     },
     "execution_count": 31,
     "metadata": {},
     "output_type": "execute_result"
    }
   ],
   "source": [
    "cadena[-10:-1]"
   ]
  },
  {
   "cell_type": "code",
   "execution_count": 32,
   "id": "646b176a",
   "metadata": {},
   "outputs": [
    {
     "data": {
      "text/plain": [
       "''"
      ]
     },
     "execution_count": 32,
     "metadata": {},
     "output_type": "execute_result"
    }
   ],
   "source": [
    "cadena[-10:0]"
   ]
  },
  {
   "cell_type": "code",
   "execution_count": 33,
   "id": "0050d8ef",
   "metadata": {},
   "outputs": [
    {
     "data": {
      "text/plain": [
       "'r'"
      ]
     },
     "execution_count": 33,
     "metadata": {},
     "output_type": "execute_result"
    }
   ],
   "source": [
    "cadena[-1]"
   ]
  },
  {
   "cell_type": "code",
   "execution_count": 34,
   "id": "60257637",
   "metadata": {},
   "outputs": [
    {
     "data": {
      "text/plain": [
       "'e Lima Sur'"
      ]
     },
     "execution_count": 34,
     "metadata": {},
     "output_type": "execute_result"
    }
   ],
   "source": [
    "cadena[-10:-1]+cadena[-1]"
   ]
  },
  {
   "cell_type": "code",
   "execution_count": 35,
   "id": "d6b39092",
   "metadata": {},
   "outputs": [
    {
     "data": {
      "text/plain": [
       "<function str.split(sep=None, maxsplit=-1)>"
      ]
     },
     "execution_count": 35,
     "metadata": {},
     "output_type": "execute_result"
    }
   ],
   "source": [
    "cadena.split"
   ]
  },
  {
   "cell_type": "code",
   "execution_count": 36,
   "id": "d04f2d98",
   "metadata": {},
   "outputs": [
    {
     "data": {
      "text/plain": [
       "['Universidad', 'Nacional', 'Tecnologica', 'de', 'Lima', 'Sur']"
      ]
     },
     "execution_count": 36,
     "metadata": {},
     "output_type": "execute_result"
    }
   ],
   "source": [
    "cadena.split()"
   ]
  },
  {
   "cell_type": "code",
   "execution_count": 37,
   "id": "1078e06e",
   "metadata": {},
   "outputs": [
    {
     "data": {
      "text/plain": [
       "['Universidad Nacional Tecnologica de Lima S', 'r']"
      ]
     },
     "execution_count": 37,
     "metadata": {},
     "output_type": "execute_result"
    }
   ],
   "source": [
    "cadena.split(\"u\")"
   ]
  },
  {
   "cell_type": "code",
   "execution_count": 38,
   "id": "765cd709",
   "metadata": {},
   "outputs": [],
   "source": [
    "#cadena.split recorta las partes no deseadas y separa"
   ]
  },
  {
   "cell_type": "code",
   "execution_count": 39,
   "id": "7ef07553",
   "metadata": {},
   "outputs": [
    {
     "data": {
      "text/plain": [
       "['Universidad', 'Nacional', 'Tecnologica', 'de', 'Lima', 'Sur']"
      ]
     },
     "execution_count": 39,
     "metadata": {},
     "output_type": "execute_result"
    }
   ],
   "source": [
    "cadena.split(\" \")"
   ]
  },
  {
   "cell_type": "code",
   "execution_count": 40,
   "id": "31679885",
   "metadata": {},
   "outputs": [
    {
     "data": {
      "text/plain": [
       "['Universidad Nacional Tecnologica de Lima Sur']"
      ]
     },
     "execution_count": 40,
     "metadata": {},
     "output_type": "execute_result"
    }
   ],
   "source": [
    "cadena.split(\"*\")"
   ]
  },
  {
   "cell_type": "code",
   "execution_count": 41,
   "id": "a66c3641",
   "metadata": {},
   "outputs": [
    {
     "data": {
      "text/plain": [
       "['U', 'iversidad Nacio', 'al Tec', 'ologica de Lima Sur']"
      ]
     },
     "execution_count": 41,
     "metadata": {},
     "output_type": "execute_result"
    }
   ],
   "source": [
    "cadena.split(\"n\")"
   ]
  },
  {
   "cell_type": "code",
   "execution_count": 42,
   "id": "ba2a45a7",
   "metadata": {},
   "outputs": [
    {
     "ename": "TypeError",
     "evalue": "'str' object cannot be interpreted as an integer",
     "output_type": "error",
     "traceback": [
      "\u001b[1;31m---------------------------------------------------------------------------\u001b[0m",
      "\u001b[1;31mTypeError\u001b[0m                                 Traceback (most recent call last)",
      "Input \u001b[1;32mIn [42]\u001b[0m, in \u001b[0;36m<cell line: 1>\u001b[1;34m()\u001b[0m\n\u001b[1;32m----> 1\u001b[0m \u001b[43mcadena\u001b[49m\u001b[38;5;241;43m.\u001b[39;49m\u001b[43msplit\u001b[49m\u001b[43m(\u001b[49m\u001b[38;5;124;43m\"\u001b[39;49m\u001b[38;5;124;43mn\u001b[39;49m\u001b[38;5;124;43m\"\u001b[39;49m\u001b[43m,\u001b[49m\u001b[38;5;124;43m\"\u001b[39;49m\u001b[38;5;124;43m \u001b[39;49m\u001b[38;5;124;43m\"\u001b[39;49m\u001b[43m)\u001b[49m\n",
      "\u001b[1;31mTypeError\u001b[0m: 'str' object cannot be interpreted as an integer"
     ]
    }
   ],
   "source": [
    "cadena.split(\"n\",\" \")"
   ]
  },
  {
   "cell_type": "code",
   "execution_count": 43,
   "id": "a60a7c67",
   "metadata": {},
   "outputs": [
    {
     "data": {
      "text/plain": [
       "['Universidad Nacional Tecnologic', 'de Lim', 'Sur']"
      ]
     },
     "execution_count": 43,
     "metadata": {},
     "output_type": "execute_result"
    }
   ],
   "source": [
    "cadena.split(\"a \")"
   ]
  },
  {
   "cell_type": "code",
   "execution_count": 48,
   "id": "b0855a33",
   "metadata": {},
   "outputs": [],
   "source": [
    "# utilizando el .format [concatenar tipo 3]"
   ]
  },
  {
   "cell_type": "code",
   "execution_count": 45,
   "id": "467c1f7a",
   "metadata": {},
   "outputs": [],
   "source": [
    "nombre=\"pablo\"\n",
    "edad=\"30\""
   ]
  },
  {
   "cell_type": "code",
   "execution_count": 46,
   "id": "18176e3d",
   "metadata": {},
   "outputs": [
    {
     "name": "stdout",
     "output_type": "stream",
     "text": [
      "buenos dias mr. pablo, usted tiene 30 años\n"
     ]
    }
   ],
   "source": [
    "print(\"buenos dias mr. {}, usted tiene {} años\".format(nombre,edad))"
   ]
  },
  {
   "cell_type": "code",
   "execution_count": 47,
   "id": "85a1ee09",
   "metadata": {},
   "outputs": [],
   "source": [
    "# utilizando el .format [concatenar tipo 1]"
   ]
  },
  {
   "cell_type": "code",
   "execution_count": 49,
   "id": "7d56c534",
   "metadata": {},
   "outputs": [
    {
     "name": "stdout",
     "output_type": "stream",
     "text": [
      "buenos dias, flor\n"
     ]
    }
   ],
   "source": [
    "nombre=\"flor\"\n",
    "print(\"buenos dias, \" +nombre)"
   ]
  },
  {
   "cell_type": "code",
   "execution_count": null,
   "id": "9c2b15bd",
   "metadata": {},
   "outputs": [],
   "source": []
  },
  {
   "cell_type": "code",
   "execution_count": null,
   "id": "d2784c0c",
   "metadata": {},
   "outputs": [],
   "source": []
  },
  {
   "cell_type": "code",
   "execution_count": null,
   "id": "cb13dcc1",
   "metadata": {},
   "outputs": [],
   "source": []
  },
  {
   "cell_type": "code",
   "execution_count": 50,
   "id": "85adc7ba",
   "metadata": {},
   "outputs": [
    {
     "name": "stdout",
     "output_type": "stream",
     "text": [
      "10/3 es = 3.3333333333333335 \n"
     ]
    }
   ],
   "source": [
    "# dar formato a numeros con muchos decimales\n",
    "resultado= 10/3\n",
    "print(\"10/3 es = {} \".format(resultado))"
   ]
  },
  {
   "cell_type": "code",
   "execution_count": 52,
   "id": "d3199ed1",
   "metadata": {},
   "outputs": [
    {
     "name": "stdout",
     "output_type": "stream",
     "text": [
      "1000/3 es = 333.3333333333333 \n",
      "1000/3 es = 333.33 \n"
     ]
    }
   ],
   "source": [
    "# dar formato a numeros con muchos decimales a pocos decimales\n",
    "resultado= 1000/3\n",
    "print(\"1000/3 es = {} \".format(resultado))\n",
    "print(\"1000/3 es = {r:1.2f} \".format(r=resultado))"
   ]
  },
  {
   "cell_type": "code",
   "execution_count": 56,
   "id": "aded0257",
   "metadata": {},
   "outputs": [
    {
     "name": "stdout",
     "output_type": "stream",
     "text": [
      "buenos dias dafne huertas, ya se que mides 1.60 metros\n"
     ]
    }
   ],
   "source": [
    "# dar formato con f\n",
    "# la funcion f, esta disponibles desde la version 3.6\n",
    "nombre= \"dafne huertas\"\n",
    "talla =158/99\n",
    "print(f\"buenos dias {nombre}, ya se que mides {talla:.2f} metros\")"
   ]
  },
  {
   "cell_type": "code",
   "execution_count": null,
   "id": "f8727e60",
   "metadata": {},
   "outputs": [],
   "source": []
  }
 ],
 "metadata": {
  "kernelspec": {
   "display_name": "Python 3 (ipykernel)",
   "language": "python",
   "name": "python3"
  },
  "language_info": {
   "codemirror_mode": {
    "name": "ipython",
    "version": 3
   },
   "file_extension": ".py",
   "mimetype": "text/x-python",
   "name": "python",
   "nbconvert_exporter": "python",
   "pygments_lexer": "ipython3",
   "version": "3.9.12"
  }
 },
 "nbformat": 4,
 "nbformat_minor": 5
}
