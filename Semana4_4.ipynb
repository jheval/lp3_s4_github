{
 "cells": [
  {
   "cell_type": "markdown",
   "id": "b85dbb19",
   "metadata": {},
   "source": [
    "Semana 4\n",
    "Valdivieso Sánchez Jheremy Victor"
   ]
  },
  {
   "cell_type": "markdown",
   "id": "1e1174f5",
   "metadata": {},
   "source": [
    "Agenda\n",
    "\n",
    "1. Numeros\n",
    "2. Variables\n",
    "3. Manejo de cadenas\n",
    "4. Ingreso de datos por teclado\n",
    "5. Operadores"
   ]
  },
  {
   "cell_type": "markdown",
   "id": "90f2142b",
   "metadata": {},
   "source": [
    "4. Ingreso de datos por teclado"
   ]
  },
  {
   "cell_type": "code",
   "execution_count": 1,
   "id": "b5f5e31f",
   "metadata": {},
   "outputs": [
    {
     "name": "stdout",
     "output_type": "stream",
     "text": [
      "¿cual es tu nombre?\n",
      "jheremy \n",
      "hola jheremy \n"
     ]
    }
   ],
   "source": [
    "# funcion input()\n",
    "print(\"¿cual es tu nombre?\")\n",
    "nombre=input()\n",
    "print(\"hola \"+nombre)"
   ]
  },
  {
   "cell_type": "code",
   "execution_count": 3,
   "id": "dea1f59f",
   "metadata": {},
   "outputs": [
    {
     "name": "stdout",
     "output_type": "stream",
     "text": [
      "numero1: \n",
      "50\n",
      "numero 2: \n",
      "50\n",
      "el resultado es: 100.00\n"
     ]
    }
   ],
   "source": [
    "# cuando ingresa un valor por teclado lo hace como cadena\n",
    "print(\"numero1: \")\n",
    "numero1=input()\n",
    "print(\"numero 2: \")\n",
    "numero2= input()\n",
    "numero3= int(numero1)+int(numero2)\n",
    "print(f\"el resultado es: {numero3:.2f}\")"
   ]
  },
  {
   "cell_type": "code",
   "execution_count": null,
   "id": "e3189c5f",
   "metadata": {},
   "outputs": [],
   "source": []
  }
 ],
 "metadata": {
  "kernelspec": {
   "display_name": "Python 3 (ipykernel)",
   "language": "python",
   "name": "python3"
  },
  "language_info": {
   "codemirror_mode": {
    "name": "ipython",
    "version": 3
   },
   "file_extension": ".py",
   "mimetype": "text/x-python",
   "name": "python",
   "nbconvert_exporter": "python",
   "pygments_lexer": "ipython3",
   "version": "3.9.12"
  }
 },
 "nbformat": 4,
 "nbformat_minor": 5
}
