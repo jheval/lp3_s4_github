{
 "cells": [
  {
   "cell_type": "markdown",
   "id": "bc4e91df",
   "metadata": {},
   "source": [
    "# Semana 04\n",
    "Valdivieso Sánchez Jheremy Victor\n",
    "\n",
    "Agenda\n",
    "1. Numeros\n",
    "2. Variables\n",
    "3. Manejo de cadenas\n",
    "4. Ingreso por el teclado\n",
    "5. Operaciones"
   ]
  },
  {
   "cell_type": "markdown",
   "id": "419c6c64",
   "metadata": {},
   "source": [
    "2. Variables"
   ]
  },
  {
   "cell_type": "code",
   "execution_count": 7,
   "id": "630d2be8",
   "metadata": {},
   "outputs": [],
   "source": [
    "# Se debe iniciar siempre con un una letra o un guion abajo. (nunca con un numero u otro simbolo)"
   ]
  },
  {
   "cell_type": "code",
   "execution_count": 4,
   "id": "e95f91bb",
   "metadata": {},
   "outputs": [],
   "source": [
    "edad = 21"
   ]
  },
  {
   "cell_type": "code",
   "execution_count": 5,
   "id": "add71d79",
   "metadata": {},
   "outputs": [
    {
     "data": {
      "text/plain": [
       "21"
      ]
     },
     "execution_count": 5,
     "metadata": {},
     "output_type": "execute_result"
    }
   ],
   "source": [
    "edad"
   ]
  },
  {
   "cell_type": "code",
   "execution_count": 6,
   "id": "e11f8449",
   "metadata": {},
   "outputs": [],
   "source": [
    "nombre=\"jeampier\""
   ]
  },
  {
   "cell_type": "code",
   "execution_count": 8,
   "id": "bd40df35",
   "metadata": {},
   "outputs": [],
   "source": [
    "apellidos= \"barrios quispe\""
   ]
  },
  {
   "cell_type": "code",
   "execution_count": 9,
   "id": "0ecf9a9b",
   "metadata": {},
   "outputs": [
    {
     "data": {
      "text/plain": [
       "'barrios quispe'"
      ]
     },
     "execution_count": 9,
     "metadata": {},
     "output_type": "execute_result"
    }
   ],
   "source": [
    "apellidos"
   ]
  },
  {
   "cell_type": "code",
   "execution_count": 10,
   "id": "c4c48c49",
   "metadata": {},
   "outputs": [],
   "source": [
    "nombrecompleto =nombre+apellidos"
   ]
  },
  {
   "cell_type": "code",
   "execution_count": 11,
   "id": "e3b640fa",
   "metadata": {},
   "outputs": [
    {
     "data": {
      "text/plain": [
       "'jeampierbarrios quispe'"
      ]
     },
     "execution_count": 11,
     "metadata": {},
     "output_type": "execute_result"
    }
   ],
   "source": [
    "nombrecompleto"
   ]
  },
  {
   "cell_type": "code",
   "execution_count": 12,
   "id": "02a3328f",
   "metadata": {},
   "outputs": [],
   "source": [
    "nombrecompleto=nombre+''+apellidos"
   ]
  },
  {
   "cell_type": "code",
   "execution_count": 13,
   "id": "4ffef3bd",
   "metadata": {},
   "outputs": [
    {
     "data": {
      "text/plain": [
       "'jeampierbarrios quispe'"
      ]
     },
     "execution_count": 13,
     "metadata": {},
     "output_type": "execute_result"
    }
   ],
   "source": [
    "nombrecompleto"
   ]
  },
  {
   "cell_type": "code",
   "execution_count": 14,
   "id": "66f61530",
   "metadata": {},
   "outputs": [],
   "source": [
    "nombrecompleto=nombre+' '+apellidos"
   ]
  },
  {
   "cell_type": "code",
   "execution_count": 15,
   "id": "35c3d9a2",
   "metadata": {},
   "outputs": [
    {
     "data": {
      "text/plain": [
       "'jeampier barrios quispe'"
      ]
     },
     "execution_count": 15,
     "metadata": {},
     "output_type": "execute_result"
    }
   ],
   "source": [
    "nombrecompleto"
   ]
  },
  {
   "cell_type": "code",
   "execution_count": 20,
   "id": "ae56fb62",
   "metadata": {},
   "outputs": [],
   "source": [
    "# para saber el tipo de variable utilizamos la funcion type()\n",
    "numero=5"
   ]
  },
  {
   "cell_type": "code",
   "execution_count": 17,
   "id": "6bfee253",
   "metadata": {},
   "outputs": [
    {
     "data": {
      "text/plain": [
       "int"
      ]
     },
     "execution_count": 17,
     "metadata": {},
     "output_type": "execute_result"
    }
   ],
   "source": [
    "type(numero)"
   ]
  },
  {
   "cell_type": "code",
   "execution_count": 18,
   "id": "df2c9be3",
   "metadata": {},
   "outputs": [],
   "source": [
    "talla=1.74"
   ]
  },
  {
   "cell_type": "code",
   "execution_count": 19,
   "id": "ce75269c",
   "metadata": {},
   "outputs": [
    {
     "data": {
      "text/plain": [
       "float"
      ]
     },
     "execution_count": 19,
     "metadata": {},
     "output_type": "execute_result"
    }
   ],
   "source": [
    "type(talla)"
   ]
  },
  {
   "cell_type": "code",
   "execution_count": 21,
   "id": "eeccd564",
   "metadata": {},
   "outputs": [],
   "source": [
    "# para convertir un numero a una cadena utilizamos str()"
   ]
  },
  {
   "cell_type": "code",
   "execution_count": 22,
   "id": "eccbe229",
   "metadata": {},
   "outputs": [],
   "source": [
    "numero=100"
   ]
  },
  {
   "cell_type": "code",
   "execution_count": 23,
   "id": "d5701ea9",
   "metadata": {},
   "outputs": [],
   "source": [
    "cadena=str(numero)"
   ]
  },
  {
   "cell_type": "code",
   "execution_count": 24,
   "id": "c0f1eec6",
   "metadata": {},
   "outputs": [
    {
     "data": {
      "text/plain": [
       "'100'"
      ]
     },
     "execution_count": 24,
     "metadata": {},
     "output_type": "execute_result"
    }
   ],
   "source": [
    "cadena"
   ]
  },
  {
   "cell_type": "code",
   "execution_count": 26,
   "id": "22238cca",
   "metadata": {},
   "outputs": [
    {
     "data": {
      "text/plain": [
       "50"
      ]
     },
     "execution_count": 26,
     "metadata": {},
     "output_type": "execute_result"
    }
   ],
   "source": [
    "# para convertir una cadena en un entero utilizamos int()\n",
    "cadena2=\"50\"\n",
    "numero2=int(cadena2)\n",
    "numero2"
   ]
  },
  {
   "cell_type": "code",
   "execution_count": 27,
   "id": "62a49b53",
   "metadata": {},
   "outputs": [
    {
     "data": {
      "text/plain": [
       "100.0"
      ]
     },
     "execution_count": 27,
     "metadata": {},
     "output_type": "execute_result"
    }
   ],
   "source": [
    "# para convertir una cadena a un decimal utilizamos float()\n",
    "cadena3=\"100\"\n",
    "numero3=float(cadena3)\n",
    "numero3"
   ]
  },
  {
   "cell_type": "code",
   "execution_count": null,
   "id": "960714e8",
   "metadata": {},
   "outputs": [],
   "source": []
  },
  {
   "cell_type": "code",
   "execution_count": null,
   "id": "75365df6",
   "metadata": {},
   "outputs": [],
   "source": []
  },
  {
   "cell_type": "code",
   "execution_count": null,
   "id": "762696e5",
   "metadata": {},
   "outputs": [],
   "source": []
  },
  {
   "cell_type": "code",
   "execution_count": null,
   "id": "7f150776",
   "metadata": {},
   "outputs": [],
   "source": []
  },
  {
   "cell_type": "code",
   "execution_count": null,
   "id": "d4d37682",
   "metadata": {},
   "outputs": [],
   "source": []
  }
 ],
 "metadata": {
  "kernelspec": {
   "display_name": "Python 3 (ipykernel)",
   "language": "python",
   "name": "python3"
  },
  "language_info": {
   "codemirror_mode": {
    "name": "ipython",
    "version": 3
   },
   "file_extension": ".py",
   "mimetype": "text/x-python",
   "name": "python",
   "nbconvert_exporter": "python",
   "pygments_lexer": "ipython3",
   "version": "3.9.12"
  }
 },
 "nbformat": 4,
 "nbformat_minor": 5
}
